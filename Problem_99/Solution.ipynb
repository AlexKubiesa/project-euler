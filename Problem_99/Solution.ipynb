{
 "cells": [
  {
   "cell_type": "markdown",
   "id": "57464126",
   "metadata": {},
   "source": [
    "# Overview"
   ]
  },
  {
   "cell_type": "code",
   "execution_count": null,
   "id": "f2e17001",
   "metadata": {},
   "outputs": [],
   "source": [
    "from math import log2\n",
    "\n",
    "import pandas as pd\n",
    "import numpy as np"
   ]
  },
  {
   "cell_type": "code",
   "execution_count": null,
   "id": "d8a21506",
   "metadata": {},
   "outputs": [],
   "source": [
    "data = pd.read_csv(\"base_exp.txt\", names=[\"base\", \"exp\"])"
   ]
  },
  {
   "cell_type": "code",
   "execution_count": null,
   "id": "0712d1d2",
   "metadata": {},
   "outputs": [],
   "source": [
    "data.head()"
   ]
  },
  {
   "cell_type": "markdown",
   "id": "30376079",
   "metadata": {},
   "source": [
    "# Bounds"
   ]
  },
  {
   "cell_type": "code",
   "execution_count": null,
   "id": "51f78fe2",
   "metadata": {},
   "outputs": [],
   "source": [
    "# Max base is 999,665\n",
    "data.base.max()"
   ]
  },
  {
   "cell_type": "code",
   "execution_count": null,
   "id": "f3bc68be",
   "metadata": {},
   "outputs": [],
   "source": [
    "# Max exp is 1,190,800\n",
    "data.exp.max()"
   ]
  },
  {
   "cell_type": "code",
   "execution_count": null,
   "id": "d070e07c",
   "metadata": {
    "scrolled": true
   },
   "outputs": [],
   "source": [
    "print(log2(data.base.max()))"
   ]
  },
  {
   "cell_type": "markdown",
   "id": "03adc728",
   "metadata": {},
   "source": [
    "log2(max base) is ~20, so max base ~ 2^20. Hence the maximum value is bounded above by (2^20)^1190800 ~ 2^40,000,000, which is very large!\n",
    "\n",
    "The largest value of an int128 is 2^128 - 1. The largest (finite) value of a binary64 float is ~2^1024. So, we can't store the numbers base^exp directly."
   ]
  },
  {
   "cell_type": "markdown",
   "id": "6262fa93",
   "metadata": {},
   "source": [
    "# Logarithms\n",
    "What if we store the logarithms of the values?"
   ]
  },
  {
   "cell_type": "code",
   "execution_count": null,
   "id": "88e8a0b9",
   "metadata": {
    "scrolled": true
   },
   "outputs": [],
   "source": [
    "data[\"log(base)\"] = np.log(data[\"base\"])\n",
    "data.head()"
   ]
  },
  {
   "cell_type": "code",
   "execution_count": null,
   "id": "88f0cc65",
   "metadata": {},
   "outputs": [],
   "source": [
    "data[\"exp*log(base)\"] = data[\"exp\"] * data[\"log(base)\"]\n",
    "data.head()"
   ]
  },
  {
   "cell_type": "markdown",
   "id": "c1e3bc60",
   "metadata": {},
   "source": [
    "# Solution\n",
    "We have log(base^exp) = exp*log(base), so we can compare the latter."
   ]
  },
  {
   "cell_type": "code",
   "execution_count": null,
   "id": "a02df9a8",
   "metadata": {},
   "outputs": [],
   "source": [
    "# Get the row with the highest value.\n",
    "data[data[\"exp*log(base)\"] == data[\"exp*log(base)\"].max()]"
   ]
  },
  {
   "cell_type": "markdown",
   "id": "72b9b4c1",
   "metadata": {},
   "source": [
    "The row with the highest value has index 708, but DataFrame indexes are zero-based, so this is the 709th row.\n",
    "\n",
    "The answer is **709**."
   ]
  }
 ],
 "metadata": {
  "kernelspec": {
   "display_name": "Python 3",
   "language": "python",
   "name": "python3"
  },
  "language_info": {
   "codemirror_mode": {
    "name": "ipython",
    "version": 3
   },
   "file_extension": ".py",
   "mimetype": "text/x-python",
   "name": "python",
   "nbconvert_exporter": "python",
   "pygments_lexer": "ipython3",
   "version": "3.7.9"
  }
 },
 "nbformat": 4,
 "nbformat_minor": 5
}
