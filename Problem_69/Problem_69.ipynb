{
 "cells": [
  {
   "cell_type": "markdown",
   "id": "34a0fa50",
   "metadata": {},
   "source": [
    "# Overview\n",
    "We want to maximise $n/\\phi(n)$ subject to $n \\le 1,000,000$.\n",
    "\n",
    "The Euler phi function is multiplicative, which means that $\\phi(mn) = \\phi(m)\\phi(n)$ whenever $m$ and $n$ are coprime. We can use this fact to make the search easier.\n",
    "\n",
    "Suppose $n = p^k$ is a prime power. Then $\\phi(n) = p^{k-1}(p-1)$, so $n/\\phi(n) = p/(p-1)$. Hence, it is only worth considering $k = 1$. Since $\\phi$ is multiplicative, this means that for general $n$, we only need to consider those numbers that are a product of distinct primes. But $p/(p-1)$ is a decreasing function of $p$, so choosing small primes will maximise $n/\\phi(n)$ while minimising $n$.\n",
    "\n",
    "Therefore, we only need to consider products of the smallest, distinct primes, i.e. the primorial numbers $p_k\\#$."
   ]
  },
  {
   "cell_type": "code",
   "execution_count": 2,
   "id": "0202a487",
   "metadata": {},
   "outputs": [
    {
     "name": "stdout",
     "output_type": "stream",
     "text": [
      "Product of [2]: 2\n",
      "Product of [2, 3]: 6\n",
      "Product of [2, 3, 5]: 30\n",
      "Product of [2, 3, 5, 7]: 210\n",
      "Product of [2, 3, 5, 7, 11]: 2310\n",
      "Product of [2, 3, 5, 7, 11, 13]: 30030\n",
      "Product of [2, 3, 5, 7, 11, 13, 17]: 510510\n",
      "Product of [2, 3, 5, 7, 11, 13, 17, 19]: 9699690\n"
     ]
    }
   ],
   "source": [
    "from functools import reduce\n",
    "\n",
    "# Hardcode the first few primes\n",
    "primes = [2, 3, 5, 7, 11, 13, 17, 19]\n",
    "for i in range(len(primes)):\n",
    "    prefix = primes[:i+1]\n",
    "    primorial = reduce(lambda x, y: x * y, prefix)\n",
    "    print(f\"Product of {prefix}: {primorial}\")"
   ]
  },
  {
   "cell_type": "markdown",
   "id": "1ff46fe8",
   "metadata": {},
   "source": [
    "We can see that $$17\\# = 510,510 < 1,000,000$$ and $$19\\# = 9,699,690 > 1,000,000,$$ so the answer is $510,510$."
   ]
  }
 ],
 "metadata": {
  "kernelspec": {
   "display_name": "Python 3",
   "language": "python",
   "name": "python3"
  },
  "language_info": {
   "codemirror_mode": {
    "name": "ipython",
    "version": 3
   },
   "file_extension": ".py",
   "mimetype": "text/x-python",
   "name": "python",
   "nbconvert_exporter": "python",
   "pygments_lexer": "ipython3",
   "version": "3.7.9"
  }
 },
 "nbformat": 4,
 "nbformat_minor": 5
}
